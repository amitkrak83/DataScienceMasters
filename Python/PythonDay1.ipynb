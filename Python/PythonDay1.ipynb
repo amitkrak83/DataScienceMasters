{
 "cells": [
  {
   "cell_type": "markdown",
   "id": "0aca3a08-7ee3-46ab-a958-abe2a8a34579",
   "metadata": {},
   "source": [
    "## string"
   ]
  },
  {
   "cell_type": "code",
   "execution_count": 24,
   "id": "30d8f0c7-4263-4199-a958-f01770a259fb",
   "metadata": {},
   "outputs": [],
   "source": [
    "name=\"Amit\""
   ]
  },
  {
   "cell_type": "code",
   "execution_count": 25,
   "id": "db818c76-4dc2-4c1b-9269-9bd819f297ea",
   "metadata": {},
   "outputs": [
    {
     "name": "stdout",
     "output_type": "stream",
     "text": [
      "My name is Amit\n"
     ]
    }
   ],
   "source": [
    "# fstring\n",
    "print(f\"My name is {name}\")"
   ]
  },
  {
   "cell_type": "code",
   "execution_count": 26,
   "id": "2458c0df-20c7-4be6-a0e5-362c1839c777",
   "metadata": {},
   "outputs": [
    {
     "name": "stdout",
     "output_type": "stream",
     "text": [
      "My name is Amit\n"
     ]
    }
   ],
   "source": [
    "# format\n",
    "\n",
    "print(\"My name is {first_name}\".format(first_name=name))"
   ]
  },
  {
   "cell_type": "markdown",
   "id": "340bc425-f5eb-49e9-97d9-2817ae29ff3a",
   "metadata": {},
   "source": [
    "## Control flow\n",
    "    1. if \n",
    "    2. if else\n",
    "    3. if elif\n",
    "    4. Nested if "
   ]
  },
  {
   "cell_type": "code",
   "execution_count": 28,
   "id": "2520dd64-74f2-4220-a8b6-22cfdce8371e",
   "metadata": {},
   "outputs": [],
   "source": [
    "age = 18"
   ]
  },
  {
   "cell_type": "code",
   "execution_count": null,
   "id": "2b7c38cb-75c8-405b-9dcc-57750995e2cd",
   "metadata": {},
   "outputs": [],
   "source": [
    "if age >= 18:\n",
    "    print(f\"Your age is {age}. You can vote as age is greater than 18.\")\n",
    "else:\n",
    "    print(f\"Your age is {age}. You can not vote as age is lower than 18.\")"
   ]
  },
  {
   "cell_type": "code",
   "execution_count": null,
   "id": "ba959fc9-170b-4eec-bb2c-fce2ed4d46b9",
   "metadata": {},
   "outputs": [],
   "source": []
  }
 ],
 "metadata": {
  "kernelspec": {
   "display_name": "Python 3 (ipykernel)",
   "language": "python",
   "name": "python3"
  },
  "language_info": {
   "codemirror_mode": {
    "name": "ipython",
    "version": 3
   },
   "file_extension": ".py",
   "mimetype": "text/x-python",
   "name": "python",
   "nbconvert_exporter": "python",
   "pygments_lexer": "ipython3",
   "version": "3.10.8"
  }
 },
 "nbformat": 4,
 "nbformat_minor": 5
}
